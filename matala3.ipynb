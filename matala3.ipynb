{
 "cells": [
  {
   "cell_type": "code",
   "execution_count": 36,
   "id": "ffa45867-1ca6-42d8-8e52-a70bb8194b16",
   "metadata": {},
   "outputs": [],
   "source": [
    "import json\n",
    "import requests\n",
    "import pandas as pd\n",
    "import numpy as np\n"
   ]
  },
  {
   "cell_type": "markdown",
   "id": "1a7c9dd8-0611-49e1-abaa-b5742850d5f6",
   "metadata": {},
   "source": [
    "<h1> Raad the file"
   ]
  },
  {
   "cell_type": "code",
   "execution_count": 37,
   "id": "017ea6a2-424d-4a64-b872-2b7f71c4a95a",
   "metadata": {},
   "outputs": [
    {
     "name": "stdout",
     "output_type": "stream",
     "text": [
      "['Istanbul', 'Amsterdam', 'Valletta', 'Basel', 'Doha']\n"
     ]
    }
   ],
   "source": [
    "with open('dests.txt', 'r') as f:\n",
    "    Targets = [line.rstrip('\\n') for line in f]\n",
    "\n",
    "print(Targets)\n"
   ]
  },
  {
   "cell_type": "code",
   "execution_count": 38,
   "id": "88e4be13-f05a-4d11-b158-3f6776fb650a",
   "metadata": {},
   "outputs": [],
   "source": [
    "api_key = ''\n",
    "origins =\"Tel Aviv-Jaffa\""
   ]
  },
  {
   "cell_type": "code",
   "execution_count": 39,
   "id": "22b90da2-a3f2-4b70-9b9b-b5566b63d623",
   "metadata": {},
   "outputs": [],
   "source": [
    "\n",
    "Distance=[]\n",
    "Duration=[]\n",
    "Longitude=[]\n",
    "latitude=[]"
   ]
  },
  {
   "cell_type": "markdown",
   "id": "68704158-64ca-437c-acf9-5323763c93f5",
   "metadata": {},
   "source": [
    "<h1> get the Longitude and Latitude"
   ]
  },
  {
   "cell_type": "code",
   "execution_count": 40,
   "id": "5550edfc-bf8c-4d59-a02e-2bca237f362b",
   "metadata": {},
   "outputs": [],
   "source": [
    "def get_lat_lng(address_string,api_key=api_key):\n",
    "    url=\"https://maps.googleapis.com/maps/api/geocode/json?address=%s&key=%s\" % (address_string,api_key)\n",
    "    try:\n",
    "        response = requests.get(url)\n",
    "        if not response.status_code == 200:\n",
    "            return(\"HTTP error\",response.status_code)\n",
    "        else:\n",
    "            try:\n",
    "                response_data = response.json()\n",
    "                if not response_data[\"status\"] == \"OK\":\n",
    "                    return (\"google API problem\")\n",
    "            except:\n",
    "                return (\"Response not in valid JSON format\")\n",
    "    except:\n",
    "        return(\"Something went wrong with requests.get\")\n",
    "    lat=response_data['results'][0][\"geometry\"][\"location\"]['lat']\n",
    "    lng=response_data['results'][0][\"geometry\"][\"location\"]['lng']\n",
    "\n",
    "    \n",
    "    return lat,lng"
   ]
  },
  {
   "cell_type": "markdown",
   "id": "0a3649c3-c889-4636-8a38-0c151e272024",
   "metadata": {},
   "source": [
    "<h1> get the distance and duration from Tel Aviv"
   ]
  },
  {
   "cell_type": "code",
   "execution_count": 41,
   "id": "1bbed4cb-3876-42db-b275-73afb122e0bb",
   "metadata": {},
   "outputs": [],
   "source": [
    "def distance_duration(destinations,origins=origins,api_key=api_key):\n",
    "    url = \"https://maps.googleapis.com/maps/api/distancematrix/json?origins=%s&destinations=%s&key=%s\"% (origins,destinations,api_key)\n",
    "    try:\n",
    "        response = requests.get(url)\n",
    "        if not response.status_code == 200:\n",
    "            return(\"HTTP error\",response.status_code)\n",
    "        else:\n",
    "            try:\n",
    "                response_data = response.json()\n",
    "                if not response_data[\"status\"] == \"OK\":\n",
    "                    return (\"google API problem\")\n",
    "            except:\n",
    "                return (\"Response not in valid JSON format\")\n",
    "    except:\n",
    "        return(\"Something went wrong with requests.get\")\n",
    "    dis=response_data['rows'][0]['elements'][0]['distance']['text']\n",
    "    dur=response_data['rows'][0]['elements'][0]['duration']['text']\n",
    "    \n",
    "    return dis,dur"
   ]
  },
  {
   "cell_type": "code",
   "execution_count": 42,
   "id": "c32a0ca0-99be-45eb-95a8-99e4a9b5abb8",
   "metadata": {},
   "outputs": [],
   "source": [
    "lat_lng=get_lat_lng(Targets[0])#Istanbul\n",
    "latitude=np.append(latitude,lat_lng[0])\n",
    "Longitude=np.append(Longitude,lat_lng[1])"
   ]
  },
  {
   "cell_type": "code",
   "execution_count": 43,
   "id": "dfe43dbe-a7af-4eca-a652-f97a8a60bdf6",
   "metadata": {},
   "outputs": [],
   "source": [
    "lat_lng=get_lat_lng(Targets[1])#Amsterdan\n",
    "latitude=np.append(latitude,lat_lng[0])\n",
    "Longitude=np.append(Longitude,lat_lng[1])"
   ]
  },
  {
   "cell_type": "code",
   "execution_count": 44,
   "id": "24f71cd5-ea90-42ec-9f4c-91fa2af2b31d",
   "metadata": {},
   "outputs": [],
   "source": [
    "lat_lng=get_lat_lng(Targets[2])#Valletta\n",
    "latitude=np.append(latitude,lat_lng[0])\n",
    "Longitude=np.append(Longitude,lat_lng[1])"
   ]
  },
  {
   "cell_type": "code",
   "execution_count": 45,
   "id": "b6806d05-879a-44aa-8078-edaac8bdb1f5",
   "metadata": {},
   "outputs": [],
   "source": [
    "lat_lng=get_lat_lng(Targets[3])#Basel\n",
    "latitude=np.append(latitude,lat_lng[0])\n",
    "Longitude=np.append(Longitude,lat_lng[1])"
   ]
  },
  {
   "cell_type": "code",
   "execution_count": 46,
   "id": "baec1ba8-c283-4e55-9ce4-9606ff5cad02",
   "metadata": {},
   "outputs": [],
   "source": [
    "lat_lng=get_lat_lng(Targets[4])#Doha\n",
    "latitude=np.append(latitude,lat_lng[0])\n",
    "Longitude=np.append(Longitude,lat_lng[1])"
   ]
  },
  {
   "cell_type": "code",
   "execution_count": 47,
   "id": "25535d52-0b7a-494d-8dbd-c87eb2da66c6",
   "metadata": {},
   "outputs": [],
   "source": [
    "dis_dur=distance_duration(Targets[0])\n",
    "Distance=np.append(Distance,dis_dur[0])\n",
    "Duration=np.append(Duration,dis_dur[1])"
   ]
  },
  {
   "cell_type": "code",
   "execution_count": 48,
   "id": "0a92c2ce-3ebc-4b9a-a102-47dee8dde266",
   "metadata": {},
   "outputs": [],
   "source": [
    "dis_dur=distance_duration(Targets[1])\n",
    "Distance=np.append(Distance,dis_dur[0])\n",
    "Duration=np.append(Duration,dis_dur[1])"
   ]
  },
  {
   "cell_type": "code",
   "execution_count": 49,
   "id": "6fa57233-722b-47a3-9179-df815a27820a",
   "metadata": {},
   "outputs": [],
   "source": [
    "dis_dur=distance_duration(Targets[2])\n",
    "Distance=np.append(Distance,dis_dur[0])\n",
    "Duration=np.append(Duration,dis_dur[1])"
   ]
  },
  {
   "cell_type": "code",
   "execution_count": 50,
   "id": "ac8f97fc-a5aa-4086-8723-77d06ac5d2db",
   "metadata": {},
   "outputs": [],
   "source": [
    "dis_dur=distance_duration(Targets[3])\n",
    "Distance=np.append(Distance,dis_dur[0])\n",
    "Duration=np.append(Duration,dis_dur[1])"
   ]
  },
  {
   "cell_type": "code",
   "execution_count": 51,
   "id": "b17e20c2-3f07-49ef-be2d-52eaee1a231c",
   "metadata": {},
   "outputs": [],
   "source": [
    "dis_dur=distance_duration(Targets[4])\n",
    "Distance=np.append(Distance,dis_dur[0])\n",
    "Duration=np.append(Duration,dis_dur[1])"
   ]
  },
  {
   "cell_type": "code",
   "execution_count": 54,
   "id": "460492f9-2b72-440e-be6c-30bfda730ad3",
   "metadata": {},
   "outputs": [],
   "source": [
    "data = {'Target':Targets , 'Distance_km':Distance ,'Duration (hour+minutes)':Duration , 'Longitude': Longitude,'Latitude':latitude}\n",
    "df_matala3 = pd.DataFrame(data=data)"
   ]
  },
  {
   "cell_type": "code",
   "execution_count": 55,
   "id": "cd12bf60-4dcd-4d35-bb97-114eb541d162",
   "metadata": {},
   "outputs": [
    {
     "data": {
      "text/html": [
       "<div>\n",
       "<style scoped>\n",
       "    .dataframe tbody tr th:only-of-type {\n",
       "        vertical-align: middle;\n",
       "    }\n",
       "\n",
       "    .dataframe tbody tr th {\n",
       "        vertical-align: top;\n",
       "    }\n",
       "\n",
       "    .dataframe thead th {\n",
       "        text-align: right;\n",
       "    }\n",
       "</style>\n",
       "<table border=\"1\" class=\"dataframe\">\n",
       "  <thead>\n",
       "    <tr style=\"text-align: right;\">\n",
       "      <th></th>\n",
       "      <th>Target</th>\n",
       "      <th>Distance_km</th>\n",
       "      <th>Duration (hour+minutes)</th>\n",
       "      <th>Longitude</th>\n",
       "      <th>Latitude</th>\n",
       "    </tr>\n",
       "  </thead>\n",
       "  <tbody>\n",
       "    <tr>\n",
       "      <th>0</th>\n",
       "      <td>Istanbul</td>\n",
       "      <td>1,815 km</td>\n",
       "      <td>21 hours 3 mins</td>\n",
       "      <td>28.978359</td>\n",
       "      <td>41.008238</td>\n",
       "    </tr>\n",
       "    <tr>\n",
       "      <th>1</th>\n",
       "      <td>Amsterdam</td>\n",
       "      <td>4,533 km</td>\n",
       "      <td>2 days 0 hours</td>\n",
       "      <td>4.904139</td>\n",
       "      <td>52.367573</td>\n",
       "    </tr>\n",
       "    <tr>\n",
       "      <th>2</th>\n",
       "      <td>Valletta</td>\n",
       "      <td>3,793 km</td>\n",
       "      <td>2 days 3 hours</td>\n",
       "      <td>14.514100</td>\n",
       "      <td>35.899237</td>\n",
       "    </tr>\n",
       "    <tr>\n",
       "      <th>3</th>\n",
       "      <td>Basel</td>\n",
       "      <td>4,093 km</td>\n",
       "      <td>1 day 20 hours</td>\n",
       "      <td>7.588576</td>\n",
       "      <td>47.559599</td>\n",
       "    </tr>\n",
       "    <tr>\n",
       "      <th>4</th>\n",
       "      <td>Doha</td>\n",
       "      <td>2,164 km</td>\n",
       "      <td>22 hours 39 mins</td>\n",
       "      <td>51.531040</td>\n",
       "      <td>25.285447</td>\n",
       "    </tr>\n",
       "  </tbody>\n",
       "</table>\n",
       "</div>"
      ],
      "text/plain": [
       "      Target Distance_km Duration (hour+minutes)  Longitude   Latitude\n",
       "0   Istanbul    1,815 km         21 hours 3 mins  28.978359  41.008238\n",
       "1  Amsterdam    4,533 km          2 days 0 hours   4.904139  52.367573\n",
       "2   Valletta    3,793 km          2 days 3 hours  14.514100  35.899237\n",
       "3      Basel    4,093 km          1 day 20 hours   7.588576  47.559599\n",
       "4       Doha    2,164 km        22 hours 39 mins  51.531040  25.285447"
      ]
     },
     "execution_count": 55,
     "metadata": {},
     "output_type": "execute_result"
    }
   ],
   "source": [
    "df_matala3"
   ]
  },
  {
   "cell_type": "code",
   "execution_count": null,
   "id": "cac26ac9-b32a-47f2-88ac-f58720df839d",
   "metadata": {},
   "outputs": [],
   "source": []
  }
 ],
 "metadata": {
  "kernelspec": {
   "display_name": "Python 3",
   "language": "python",
   "name": "python3"
  },
  "language_info": {
   "codemirror_mode": {
    "name": "ipython",
    "version": 3
   },
   "file_extension": ".py",
   "mimetype": "text/x-python",
   "name": "python",
   "nbconvert_exporter": "python",
   "pygments_lexer": "ipython3",
   "version": "3.8.8"
  }
 },
 "nbformat": 4,
 "nbformat_minor": 5
}
